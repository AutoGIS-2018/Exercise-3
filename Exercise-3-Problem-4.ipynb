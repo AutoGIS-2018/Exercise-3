{
 "cells": [
  {
   "cell_type": "markdown",
   "metadata": {
    "deletable": true,
    "editable": true
   },
   "source": [
    "## Problem 4: What is the closest shopping center from your home / work? (5 points)\n",
    "\n",
    "In the last problem you should find out the closest shopping center from a) your home and b) work locations. \n",
    "\n",
    "**Steps**:\n",
    "\n",
    " - Create a txt-file called `activity_locations.txt` (use same formatting as in Problem 1) with two columns:\n",
    "    - id --> unique number (e.g. 0 and 1)\n",
    "    - addr --> address of your work and home (you don't need to reveal your home / work if you don't want to, these can be whatever two addresses from Helsinki!)\n",
    "    \n",
    "Save the text file into this repository.\n",
    "    \n",
    " - Read those addresses into Pandas and convert the addresses to Point objects using the geocoding functionalities of Geopandas\n",
    " - Find out the nearest shopping center to these points using the techniques shown during the lesson. You can use the shopping center addresses you geocoded in Problem 1 as the destination points.  "
   ]
  },
  {
   "cell_type": "code",
   "execution_count": null,
   "metadata": {
    "collapsed": true,
    "deletable": false,
    "editable": true,
    "nbgrader": {
     "checksum": "cdd91b35924573f62712916e3a9a7e03",
     "grade": false,
     "grade_id": "problem_4",
     "locked": false,
     "schema_version": 1,
     "solution": true
    }
   },
   "outputs": [],
   "source": [
    "# Define filepath\n",
    "fp = r\"data/activity_locations.txt\"\n",
    "\n",
    "# REPLACE THE ERROR BELOW WITH YOUR OWN CODE\n",
    "raise NotImplementedError()"
   ]
  },
  {
   "cell_type": "markdown",
   "metadata": {
    "deletable": true,
    "editable": true
   },
   "source": [
    "Can you think of other application cases for the nearest neighbour analysis?"
   ]
  },
  {
   "cell_type": "code",
   "execution_count": null,
   "metadata": {
    "collapsed": true,
    "deletable": false,
    "editable": true,
    "nbgrader": {
     "checksum": "9097d06476510270641179f9a799bad7",
     "grade": true,
     "grade_id": "problem_4_check",
     "locked": false,
     "points": 5,
     "schema_version": 1,
     "solution": true
    }
   },
   "outputs": [],
   "source": []
  }
 ],
 "metadata": {
  "anaconda-cloud": {},
  "kernelspec": {
   "display_name": "Python [default]",
   "language": "python",
   "name": "python3"
  },
  "language_info": {
   "codemirror_mode": {
    "name": "ipython",
    "version": 3
   },
   "file_extension": ".py",
   "mimetype": "text/x-python",
   "name": "python",
   "nbconvert_exporter": "python",
   "pygments_lexer": "ipython3",
   "version": "3.5.2"
  }
 },
 "nbformat": 4,
 "nbformat_minor": 2
}
